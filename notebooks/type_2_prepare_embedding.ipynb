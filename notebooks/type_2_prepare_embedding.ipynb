{
 "cells": [
  {
   "cell_type": "code",
   "execution_count": 1,
   "metadata": {},
   "outputs": [],
   "source": [
    "HIERARCHY_MAX_LEN = 4\n",
    "EMBEDDING_SIZE = 64\n",
    "MERGE_METHOD = \"sum\""
   ]
  },
  {
   "cell_type": "code",
   "execution_count": 2,
   "metadata": {},
   "outputs": [],
   "source": [
    "import torch.nn as nn\n",
    "import torch\n",
    "import itertools\n",
    "import pandas as pd\n",
    "import os"
   ]
  },
  {
   "cell_type": "code",
   "execution_count": 3,
   "metadata": {},
   "outputs": [],
   "source": [
    "ROOT_DIR = os.path.dirname(os.getcwd())\n",
    "RAW_DATA_PATH = os.path.join(ROOT_DIR, \"data\",\"raw\")\n",
    "PROCESSED_DATA_PATH = os.path.join(ROOT_DIR, \"data\",\"processed\")"
   ]
  },
  {
   "cell_type": "code",
   "execution_count": 4,
   "metadata": {},
   "outputs": [
    {
     "data": {
      "text/html": [
       "<div>\n",
       "<style scoped>\n",
       "    .dataframe tbody tr th:only-of-type {\n",
       "        vertical-align: middle;\n",
       "    }\n",
       "\n",
       "    .dataframe tbody tr th {\n",
       "        vertical-align: top;\n",
       "    }\n",
       "\n",
       "    .dataframe thead th {\n",
       "        text-align: right;\n",
       "    }\n",
       "</style>\n",
       "<table border=\"1\" class=\"dataframe\">\n",
       "  <thead>\n",
       "    <tr style=\"text-align: right;\">\n",
       "      <th></th>\n",
       "      <th>Key_product</th>\n",
       "      <th>D_PRODUCT</th>\n",
       "      <th>description_word2vec</th>\n",
       "      <th>description_glove</th>\n",
       "      <th>Q_AMOUNT</th>\n",
       "      <th>K_DITTA</th>\n",
       "      <th>hierarchy</th>\n",
       "    </tr>\n",
       "  </thead>\n",
       "  <tbody>\n",
       "    <tr>\n",
       "      <th>0</th>\n",
       "      <td>6482150</td>\n",
       "      <td>BLANX WHITE SHOCK 50ML+LED</td>\n",
       "      <td>[-0.0003201263859539592, -0.000297295161154969...</td>\n",
       "      <td>[-0.10971122485678504, -0.16961734861111075, -...</td>\n",
       "      <td>6.9</td>\n",
       "      <td>1443812</td>\n",
       "      <td>[0, 0, 7594899, 6482150]</td>\n",
       "    </tr>\n",
       "    <tr>\n",
       "      <th>1</th>\n",
       "      <td>6482152</td>\n",
       "      <td>EUMILL GOCCE OCULARI 10FL0,5ML</td>\n",
       "      <td>[-0.007836564183425784, -0.015759744265918602,...</td>\n",
       "      <td>[-0.056279045973986724, 0.25549609312850746, -...</td>\n",
       "      <td>20.3</td>\n",
       "      <td>1451849</td>\n",
       "      <td>[8995977, 9241189, 9459149, 6482152]</td>\n",
       "    </tr>\n",
       "  </tbody>\n",
       "</table>\n",
       "</div>"
      ],
      "text/plain": [
       "   Key_product                       D_PRODUCT  \\\n",
       "0      6482150      BLANX WHITE SHOCK 50ML+LED   \n",
       "1      6482152  EUMILL GOCCE OCULARI 10FL0,5ML   \n",
       "\n",
       "                                description_word2vec  \\\n",
       "0  [-0.0003201263859539592, -0.000297295161154969...   \n",
       "1  [-0.007836564183425784, -0.015759744265918602,...   \n",
       "\n",
       "                                   description_glove  Q_AMOUNT  K_DITTA  \\\n",
       "0  [-0.10971122485678504, -0.16961734861111075, -...       6.9  1443812   \n",
       "1  [-0.056279045973986724, 0.25549609312850746, -...      20.3  1451849   \n",
       "\n",
       "                              hierarchy  \n",
       "0              [0, 0, 7594899, 6482150]  \n",
       "1  [8995977, 9241189, 9459149, 6482152]  "
      ]
     },
     "execution_count": 4,
     "metadata": {},
     "output_type": "execute_result"
    }
   ],
   "source": [
    "df = pd.read_pickle(os.path.join(RAW_DATA_PATH, \"lines_hier.pkl\"))\n",
    "df.drop_duplicates(subset=['Key_product'], inplace=True)\n",
    "df['hierarchy'] = df['hierarchy'].apply(lambda x: ([0]*HIERARCHY_MAX_LEN + x)[-HIERARCHY_MAX_LEN:])\n",
    "df = df.loc[:, ['Key_product', 'D_PRODUCT', 'Q_AMOUNT', 'K_DITTA', 'hierarchy']]\n",
    "df.reset_index(drop=True, inplace=True)\n",
    "\n",
    "# Merge with description\n",
    "df_description = pd.read_pickle(os.path.join(PROCESSED_DATA_PATH, \"df_products_descriptions.pkl\"))\n",
    "df = pd.merge(df, df_description, left_on='D_PRODUCT', right_on='name', how='left')\n",
    "df = df[['Key_product', 'D_PRODUCT', 'description_word2vec', 'description_glove', 'Q_AMOUNT', 'K_DITTA', 'hierarchy']]\n",
    "df.head(2)"
   ]
  },
  {
   "cell_type": "code",
   "execution_count": 5,
   "metadata": {},
   "outputs": [
    {
     "data": {
      "text/html": [
       "<div>\n",
       "<style scoped>\n",
       "    .dataframe tbody tr th:only-of-type {\n",
       "        vertical-align: middle;\n",
       "    }\n",
       "\n",
       "    .dataframe tbody tr th {\n",
       "        vertical-align: top;\n",
       "    }\n",
       "\n",
       "    .dataframe thead th {\n",
       "        text-align: right;\n",
       "    }\n",
       "</style>\n",
       "<table border=\"1\" class=\"dataframe\">\n",
       "  <thead>\n",
       "    <tr style=\"text-align: right;\">\n",
       "      <th></th>\n",
       "      <th>Key_product</th>\n",
       "      <th>D_PRODUCT</th>\n",
       "      <th>description_word2vec</th>\n",
       "      <th>description_glove</th>\n",
       "      <th>Q_AMOUNT</th>\n",
       "      <th>K_DITTA</th>\n",
       "      <th>hierarchy</th>\n",
       "      <th>mapped_hier</th>\n",
       "    </tr>\n",
       "  </thead>\n",
       "  <tbody>\n",
       "    <tr>\n",
       "      <th>0</th>\n",
       "      <td>6482150</td>\n",
       "      <td>BLANX WHITE SHOCK 50ML+LED</td>\n",
       "      <td>[-0.0003201263859539592, -0.000297295161154969...</td>\n",
       "      <td>[-0.10971122485678504, -0.16961734861111075, -...</td>\n",
       "      <td>6.9</td>\n",
       "      <td>1443812</td>\n",
       "      <td>[0, 0, 7594899, 6482150]</td>\n",
       "      <td>[tensor(0, dtype=torch.int32), tensor(0, dtype...</td>\n",
       "    </tr>\n",
       "    <tr>\n",
       "      <th>1</th>\n",
       "      <td>6482152</td>\n",
       "      <td>EUMILL GOCCE OCULARI 10FL0,5ML</td>\n",
       "      <td>[-0.007836564183425784, -0.015759744265918602,...</td>\n",
       "      <td>[-0.056279045973986724, 0.25549609312850746, -...</td>\n",
       "      <td>20.3</td>\n",
       "      <td>1451849</td>\n",
       "      <td>[8995977, 9241189, 9459149, 6482152]</td>\n",
       "      <td>[tensor(40162, dtype=torch.int32), tensor(3133...</td>\n",
       "    </tr>\n",
       "  </tbody>\n",
       "</table>\n",
       "</div>"
      ],
      "text/plain": [
       "   Key_product                       D_PRODUCT  \\\n",
       "0      6482150      BLANX WHITE SHOCK 50ML+LED   \n",
       "1      6482152  EUMILL GOCCE OCULARI 10FL0,5ML   \n",
       "\n",
       "                                description_word2vec  \\\n",
       "0  [-0.0003201263859539592, -0.000297295161154969...   \n",
       "1  [-0.007836564183425784, -0.015759744265918602,...   \n",
       "\n",
       "                                   description_glove  Q_AMOUNT  K_DITTA  \\\n",
       "0  [-0.10971122485678504, -0.16961734861111075, -...       6.9  1443812   \n",
       "1  [-0.056279045973986724, 0.25549609312850746, -...      20.3  1451849   \n",
       "\n",
       "                              hierarchy  \\\n",
       "0              [0, 0, 7594899, 6482150]   \n",
       "1  [8995977, 9241189, 9459149, 6482152]   \n",
       "\n",
       "                                         mapped_hier  \n",
       "0  [tensor(0, dtype=torch.int32), tensor(0, dtype...  \n",
       "1  [tensor(40162, dtype=torch.int32), tensor(3133...  "
      ]
     },
     "execution_count": 5,
     "metadata": {},
     "output_type": "execute_result"
    }
   ],
   "source": [
    "# Create the mapping for the hierarchy\n",
    "\n",
    "mapping_items = {v: i for i, v in enumerate(set(itertools.chain(*df['hierarchy'].tolist())))}\n",
    "num_items = len(mapping_items)\n",
    "df['mapped_hier'] =  df['hierarchy'].apply(lambda x: torch.IntTensor([mapping_items[y] for y in x]))\n",
    "df.head(2)"
   ]
  },
  {
   "cell_type": "code",
   "execution_count": 6,
   "metadata": {},
   "outputs": [],
   "source": [
    "# Compute the embedding for each product and merge them\n",
    "\n",
    "embedding_ = nn.Embedding(num_items, EMBEDDING_SIZE, padding_idx=mapping_items[0])\n",
    "\n",
    "if MERGE_METHOD == 'sum':\n",
    "    df['hier_embed'] = df['mapped_hier'].apply(lambda x: embedding_(x).sum(dim=0).detach().numpy().tolist())\n",
    "else:\n",
    "    df['hier_embed'] = df['mapped_hier'].apply(lambda x: embedding_(x).mean(dim=0).detach().numpy().tolist())"
   ]
  },
  {
   "cell_type": "code",
   "execution_count": 7,
   "metadata": {},
   "outputs": [
    {
     "data": {
      "text/html": [
       "<div>\n",
       "<style scoped>\n",
       "    .dataframe tbody tr th:only-of-type {\n",
       "        vertical-align: middle;\n",
       "    }\n",
       "\n",
       "    .dataframe tbody tr th {\n",
       "        vertical-align: top;\n",
       "    }\n",
       "\n",
       "    .dataframe thead th {\n",
       "        text-align: right;\n",
       "    }\n",
       "</style>\n",
       "<table border=\"1\" class=\"dataframe\">\n",
       "  <thead>\n",
       "    <tr style=\"text-align: right;\">\n",
       "      <th></th>\n",
       "      <th>Key_product</th>\n",
       "      <th>hier_embed</th>\n",
       "      <th>description_word2vec</th>\n",
       "    </tr>\n",
       "  </thead>\n",
       "  <tbody>\n",
       "    <tr>\n",
       "      <th>0</th>\n",
       "      <td>6482150</td>\n",
       "      <td>[-1.1548326015472412, 0.11676022410392761, -0....</td>\n",
       "      <td>[-0.0003201263859539592, -0.000297295161154969...</td>\n",
       "    </tr>\n",
       "    <tr>\n",
       "      <th>1</th>\n",
       "      <td>6482152</td>\n",
       "      <td>[-3.467742681503296, 0.5491219162940979, -2.24...</td>\n",
       "      <td>[-0.007836564183425784, -0.015759744265918602,...</td>\n",
       "    </tr>\n",
       "  </tbody>\n",
       "</table>\n",
       "</div>"
      ],
      "text/plain": [
       "   Key_product                                         hier_embed  \\\n",
       "0      6482150  [-1.1548326015472412, 0.11676022410392761, -0....   \n",
       "1      6482152  [-3.467742681503296, 0.5491219162940979, -2.24...   \n",
       "\n",
       "                                description_word2vec  \n",
       "0  [-0.0003201263859539592, -0.000297295161154969...  \n",
       "1  [-0.007836564183425784, -0.015759744265918602,...  "
      ]
     },
     "execution_count": 7,
     "metadata": {},
     "output_type": "execute_result"
    }
   ],
   "source": [
    "df = df.loc[:, ['Key_product', 'hier_embed', 'description_word2vec']]\n",
    "# df = df.loc[:, ['Key_product', 'hier_embed', 'description_glove']]\n",
    "df.head(2)"
   ]
  },
  {
   "cell_type": "code",
   "execution_count": 8,
   "metadata": {},
   "outputs": [],
   "source": [
    "import numpy as np\n",
    "\n",
    "# Sum the hierarchy embedding with the description embedding\n",
    "\n",
    "df['tensor_embed'] = df.apply(lambda x: list(np.array(x['hier_embed']) + np.array(x['description_word2vec'])), axis=1)\n",
    "# df['tensor_embed'] = df.apply(lambda x: list(np.array(x['hier_embed']) + np.array(x['description_glove'])), axis=1)"
   ]
  },
  {
   "cell_type": "code",
   "execution_count": 9,
   "metadata": {},
   "outputs": [
    {
     "data": {
      "text/html": [
       "<div>\n",
       "<style scoped>\n",
       "    .dataframe tbody tr th:only-of-type {\n",
       "        vertical-align: middle;\n",
       "    }\n",
       "\n",
       "    .dataframe tbody tr th {\n",
       "        vertical-align: top;\n",
       "    }\n",
       "\n",
       "    .dataframe thead th {\n",
       "        text-align: right;\n",
       "    }\n",
       "</style>\n",
       "<table border=\"1\" class=\"dataframe\">\n",
       "  <thead>\n",
       "    <tr style=\"text-align: right;\">\n",
       "      <th></th>\n",
       "      <th>Key_product</th>\n",
       "      <th>hier_embed</th>\n",
       "      <th>description_word2vec</th>\n",
       "      <th>tensor_embed</th>\n",
       "    </tr>\n",
       "  </thead>\n",
       "  <tbody>\n",
       "    <tr>\n",
       "      <th>0</th>\n",
       "      <td>6482150</td>\n",
       "      <td>[-1.1548326015472412, 0.11676022410392761, -0....</td>\n",
       "      <td>[-0.0003201263859539592, -0.000297295161154969...</td>\n",
       "      <td>[-1.1551527279331952, 0.11646292894277264, -0....</td>\n",
       "    </tr>\n",
       "    <tr>\n",
       "      <th>1</th>\n",
       "      <td>6482152</td>\n",
       "      <td>[-3.467742681503296, 0.5491219162940979, -2.24...</td>\n",
       "      <td>[-0.007836564183425784, -0.015759744265918602,...</td>\n",
       "      <td>[-3.475579245686722, 0.5333621720281793, -2.23...</td>\n",
       "    </tr>\n",
       "  </tbody>\n",
       "</table>\n",
       "</div>"
      ],
      "text/plain": [
       "   Key_product                                         hier_embed  \\\n",
       "0      6482150  [-1.1548326015472412, 0.11676022410392761, -0....   \n",
       "1      6482152  [-3.467742681503296, 0.5491219162940979, -2.24...   \n",
       "\n",
       "                                description_word2vec  \\\n",
       "0  [-0.0003201263859539592, -0.000297295161154969...   \n",
       "1  [-0.007836564183425784, -0.015759744265918602,...   \n",
       "\n",
       "                                        tensor_embed  \n",
       "0  [-1.1551527279331952, 0.11646292894277264, -0....  \n",
       "1  [-3.475579245686722, 0.5333621720281793, -2.23...  "
      ]
     },
     "execution_count": 9,
     "metadata": {},
     "output_type": "execute_result"
    }
   ],
   "source": [
    "df.head(2)"
   ]
  },
  {
   "cell_type": "code",
   "execution_count": 10,
   "metadata": {},
   "outputs": [],
   "source": [
    "# Add the extra embedding for [MASK] and [PAD]\n",
    "\n",
    "embedding_extra = nn.Embedding(num_items, EMBEDDING_SIZE)\n",
    "extra_embed = pd.DataFrame([{\n",
    "    'Key_product': '[MASK]',\n",
    "    'tensor_embed': embedding_extra(torch.IntTensor([0])).detach().numpy().tolist()[0]\n",
    "},\n",
    "{\n",
    "    'Key_product': '[PAD]',\n",
    "    'tensor_embed': embedding_extra(torch.IntTensor([1])).detach().numpy().tolist()[0]\n",
    "}])\n",
    "df = pd.concat([df, extra_embed]).reset_index(drop=True)"
   ]
  },
  {
   "cell_type": "code",
   "execution_count": 11,
   "metadata": {},
   "outputs": [],
   "source": [
    "# Dataframe preparation\n",
    "\n",
    "df['tensor_string'] = df['tensor_embed'].astype(str).apply(lambda x: x.replace(\"[\", \"\").replace(\"]\", \"\").replace(\",\", \"\"))\n",
    "df['Key_product'] = df['Key_product'].astype(str)\n",
    "df = df.loc[:, ['Key_product', 'tensor_string']].rename(columns={\n",
    "    'Key_product':'Key_product:token',\n",
    "    'tensor_string': 'item_emb:float_seq'\n",
    "})"
   ]
  },
  {
   "cell_type": "code",
   "execution_count": 12,
   "metadata": {},
   "outputs": [],
   "source": [
    "df.to_csv(os.path.join(PROCESSED_DATA_PATH, \"type_2\",\"RECEIPT_LINES\",\"RECEIPT_LINES.item\"), sep=\"\\t\", index=False)"
   ]
  }
 ],
 "metadata": {
  "kernelspec": {
   "display_name": "recbole",
   "language": "python",
   "name": "python3"
  },
  "language_info": {
   "codemirror_mode": {
    "name": "ipython",
    "version": 3
   },
   "file_extension": ".py",
   "mimetype": "text/x-python",
   "name": "python",
   "nbconvert_exporter": "python",
   "pygments_lexer": "ipython3",
   "version": "3.10.9"
  }
 },
 "nbformat": 4,
 "nbformat_minor": 2
}
