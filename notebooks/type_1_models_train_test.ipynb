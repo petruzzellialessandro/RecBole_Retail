{
 "cells": [
  {
   "cell_type": "code",
   "execution_count": null,
   "metadata": {},
   "outputs": [],
   "source": [
    "from recbole.quick_start import run_recbole, load_data_and_model\n",
    "from recbole.utils import get_trainer\n",
    "import os"
   ]
  },
  {
   "cell_type": "code",
   "execution_count": null,
   "metadata": {},
   "outputs": [],
   "source": [
    "ROOT_DIR = os.path.dirname(os.getcwd())\n",
    "CONFIG_PATH = os.path.join(ROOT_DIR, \"config/model_type_1_config.yaml\")\n",
    "MODEL_PATH = os.path.join(ROOT_DIR, \"models/type_1\")\n",
    "REPORT_PATH = os.path.join(ROOT_DIR, \"reports/type_1\")"
   ]
  },
  {
   "cell_type": "markdown",
   "metadata": {},
   "source": [
    "# GRU4Rec"
   ]
  },
  {
   "cell_type": "code",
   "execution_count": null,
   "metadata": {},
   "outputs": [],
   "source": [
    "dict_results = run_recbole(model=\"GRU4Rec\", config_file_list=[CONFIG_PATH],  dataset='RECEIPT_LINES')"
   ]
  },
  {
   "cell_type": "code",
   "execution_count": null,
   "metadata": {},
   "outputs": [],
   "source": [
    "import os\n",
    "import pandas as pd\n",
    "\n",
    "if not os.path.exists(REPORT_PATH):\n",
    "    os.mkdir(REPORT_PATH)\n",
    "pd.Series(dict(dict_results['test_result'])).to_json(os.path.join(REPORT_PATH, \"GRU4Rec_test.json\"), indent=2)"
   ]
  },
  {
   "cell_type": "markdown",
   "metadata": {},
   "source": [
    "# BERT4Rec"
   ]
  },
  {
   "cell_type": "code",
   "execution_count": null,
   "metadata": {},
   "outputs": [],
   "source": [
    "dict_results = run_recbole(model=\"BERT4Rec\", config_file_list=[CONFIG_PATH],  dataset='RECEIPT_LINES')"
   ]
  },
  {
   "cell_type": "code",
   "execution_count": null,
   "metadata": {},
   "outputs": [],
   "source": [
    "import os\n",
    "import pandas as pd\n",
    "\n",
    "if not os.path.exists(REPORT_PATH):\n",
    "    os.mkdir(REPORT_PATH)\n",
    "pd.Series(dict(dict_results['test_result'])).to_json(os.path.join(REPORT_PATH, \"BERT4Rec_test.json\"), indent=2)"
   ]
  },
  {
   "cell_type": "markdown",
   "metadata": {},
   "source": [
    "# Caser"
   ]
  },
  {
   "cell_type": "code",
   "execution_count": null,
   "metadata": {},
   "outputs": [],
   "source": [
    "dict_results = run_recbole(model=\"Caser\", config_file_list=[CONFIG_PATH],  dataset='RECEIPT_LINES')"
   ]
  },
  {
   "cell_type": "code",
   "execution_count": null,
   "metadata": {},
   "outputs": [],
   "source": [
    "import os\n",
    "import pandas as pd\n",
    "\n",
    "if not os.path.exists(REPORT_PATH):\n",
    "    os.mkdir(REPORT_PATH)\n",
    "pd.Series(dict(dict_results['test_result'])).to_json(os.path.join(REPORT_PATH, \"Caser_test.json\"), indent=2)"
   ]
  },
  {
   "cell_type": "markdown",
   "metadata": {},
   "source": [
    "# TransRec"
   ]
  },
  {
   "cell_type": "code",
   "execution_count": null,
   "metadata": {},
   "outputs": [],
   "source": [
    "dict_results = run_recbole(model=\"TransRec\", config_file_list=[CONFIG_PATH],  dataset='RECEIPT_LINES')"
   ]
  },
  {
   "cell_type": "code",
   "execution_count": null,
   "metadata": {},
   "outputs": [],
   "source": [
    "import os\n",
    "import pandas as pd\n",
    "\n",
    "if not os.path.exists(REPORT_PATH):\n",
    "    os.mkdir(REPORT_PATH)\n",
    "pd.Series(dict(dict_results['test_result'])).to_json(os.path.join(REPORT_PATH, \"TransRec_test.json\"), indent=2)"
   ]
  }
 ],
 "metadata": {
  "kernelspec": {
   "display_name": "Python 3",
   "language": "python",
   "name": "python3"
  },
  "language_info": {
   "codemirror_mode": {
    "name": "ipython",
    "version": 3
   },
   "file_extension": ".py",
   "mimetype": "text/x-python",
   "name": "python",
   "nbconvert_exporter": "python",
   "pygments_lexer": "ipython3",
   "version": "3.10.0"
  }
 },
 "nbformat": 4,
 "nbformat_minor": 2
}
