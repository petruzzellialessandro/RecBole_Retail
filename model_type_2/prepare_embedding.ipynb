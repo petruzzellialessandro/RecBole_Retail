{
 "cells": [
  {
   "cell_type": "code",
   "execution_count": 1,
   "metadata": {},
   "outputs": [],
   "source": [
    "HIERARCHY_MAX_LEN = 4\n",
    "EMBEDDING_SIZE = 64\n",
    "MERGE_METHOD = \"sum\""
   ]
  },
  {
   "cell_type": "code",
   "execution_count": 2,
   "metadata": {},
   "outputs": [],
   "source": [
    "import torch.nn as nn\n",
    "import torch\n",
    "import itertools\n",
    "import pandas as pd"
   ]
  },
  {
   "cell_type": "code",
   "execution_count": 3,
   "metadata": {},
   "outputs": [
    {
     "data": {
      "text/html": [
       "<div>\n",
       "<style scoped>\n",
       "    .dataframe tbody tr th:only-of-type {\n",
       "        vertical-align: middle;\n",
       "    }\n",
       "\n",
       "    .dataframe tbody tr th {\n",
       "        vertical-align: top;\n",
       "    }\n",
       "\n",
       "    .dataframe thead th {\n",
       "        text-align: right;\n",
       "    }\n",
       "</style>\n",
       "<table border=\"1\" class=\"dataframe\">\n",
       "  <thead>\n",
       "    <tr style=\"text-align: right;\">\n",
       "      <th></th>\n",
       "      <th>Key_product</th>\n",
       "      <th>D_PRODUCT</th>\n",
       "      <th>Q_AMOUNT</th>\n",
       "      <th>K_DITTA</th>\n",
       "      <th>hierarchy</th>\n",
       "    </tr>\n",
       "  </thead>\n",
       "  <tbody>\n",
       "    <tr>\n",
       "      <th>0</th>\n",
       "      <td>6482150</td>\n",
       "      <td>BLANX WHITE SHOCK 50ML+LED</td>\n",
       "      <td>6.9</td>\n",
       "      <td>1443812</td>\n",
       "      <td>[0, 0, 7594899, 6482150]</td>\n",
       "    </tr>\n",
       "    <tr>\n",
       "      <th>1</th>\n",
       "      <td>6482152</td>\n",
       "      <td>EUMILL GOCCE OCULARI 10FL0,5ML</td>\n",
       "      <td>20.3</td>\n",
       "      <td>1451849</td>\n",
       "      <td>[8995977, 9241189, 9459149, 6482152]</td>\n",
       "    </tr>\n",
       "  </tbody>\n",
       "</table>\n",
       "</div>"
      ],
      "text/plain": [
       "   Key_product                       D_PRODUCT  Q_AMOUNT  K_DITTA  \\\n",
       "0      6482150      BLANX WHITE SHOCK 50ML+LED       6.9  1443812   \n",
       "1      6482152  EUMILL GOCCE OCULARI 10FL0,5ML      20.3  1451849   \n",
       "\n",
       "                              hierarchy  \n",
       "0              [0, 0, 7594899, 6482150]  \n",
       "1  [8995977, 9241189, 9459149, 6482152]  "
      ]
     },
     "execution_count": 3,
     "metadata": {},
     "output_type": "execute_result"
    }
   ],
   "source": [
    "df = pd.read_pickle(\"../raw_data/lines_hier.pkl\")\n",
    "df.drop_duplicates(subset=['Key_product'], inplace=True)\n",
    "df['hierarchy'] = df['hierarchy'].apply(lambda x: ([0]*HIERARCHY_MAX_LEN + x)[-HIERARCHY_MAX_LEN:])\n",
    "df = df.loc[:, ['Key_product', 'D_PRODUCT', 'Q_AMOUNT', 'K_DITTA', 'hierarchy']]\n",
    "df.reset_index(drop=True, inplace=True)\n",
    "df.head(2)"
   ]
  },
  {
   "cell_type": "code",
   "execution_count": 4,
   "metadata": {},
   "outputs": [],
   "source": [
    "mapping_items = {v: i for i, v in enumerate(set(itertools.chain(*df['hierarchy'].tolist())))}\n",
    "num_items = len(mapping_items)\n",
    "df['mapped_hier'] =  df['hierarchy'].apply(lambda x: torch.IntTensor([mapping_items[y] for y in x]))"
   ]
  },
  {
   "cell_type": "code",
   "execution_count": 5,
   "metadata": {},
   "outputs": [],
   "source": [
    "embedding_ = nn.Embedding(num_items, EMBEDDING_SIZE, padding_idx=mapping_items[0])\n",
    "if MERGE_METHOD == 'sum':\n",
    "    df['tensor_embed'] = df['mapped_hier'].apply(lambda x: embedding_(x).sum(dim=0).detach().numpy().tolist())\n",
    "else:\n",
    "    df['tensor_embed'] = df['mapped_hier'].apply(lambda x: embedding_(x).mean(dim=0).detach().numpy().tolist())"
   ]
  },
  {
   "cell_type": "code",
   "execution_count": 6,
   "metadata": {},
   "outputs": [
    {
     "data": {
      "text/html": [
       "<div>\n",
       "<style scoped>\n",
       "    .dataframe tbody tr th:only-of-type {\n",
       "        vertical-align: middle;\n",
       "    }\n",
       "\n",
       "    .dataframe tbody tr th {\n",
       "        vertical-align: top;\n",
       "    }\n",
       "\n",
       "    .dataframe thead th {\n",
       "        text-align: right;\n",
       "    }\n",
       "</style>\n",
       "<table border=\"1\" class=\"dataframe\">\n",
       "  <thead>\n",
       "    <tr style=\"text-align: right;\">\n",
       "      <th></th>\n",
       "      <th>Key_product</th>\n",
       "      <th>tensor_embed</th>\n",
       "    </tr>\n",
       "  </thead>\n",
       "  <tbody>\n",
       "    <tr>\n",
       "      <th>0</th>\n",
       "      <td>6482150</td>\n",
       "      <td>[1.4624515771865845, 0.002388477325439453, -1....</td>\n",
       "    </tr>\n",
       "    <tr>\n",
       "      <th>1</th>\n",
       "      <td>6482152</td>\n",
       "      <td>[-1.308363437652588, 2.7731428146362305, -0.12...</td>\n",
       "    </tr>\n",
       "  </tbody>\n",
       "</table>\n",
       "</div>"
      ],
      "text/plain": [
       "   Key_product                                       tensor_embed\n",
       "0      6482150  [1.4624515771865845, 0.002388477325439453, -1....\n",
       "1      6482152  [-1.308363437652588, 2.7731428146362305, -0.12..."
      ]
     },
     "execution_count": 6,
     "metadata": {},
     "output_type": "execute_result"
    }
   ],
   "source": [
    "df = df.loc[:, ['Key_product', 'tensor_embed']]\n",
    "df.head(2)"
   ]
  },
  {
   "cell_type": "code",
   "execution_count": 7,
   "metadata": {},
   "outputs": [],
   "source": [
    "embedding_extra = nn.Embedding(num_items, EMBEDDING_SIZE)\n",
    "extra_embed = pd.DataFrame([{\n",
    "    'Key_product': '[MASK]',\n",
    "    'tensor_embed': embedding_extra(torch.IntTensor([0])).detach().numpy().tolist()[0]\n",
    "},\n",
    "{\n",
    "    'Key_product': '[PAD]',\n",
    "    'tensor_embed': embedding_extra(torch.IntTensor([1])).detach().numpy().tolist()[0]\n",
    "}])\n",
    "df = pd.concat([df, extra_embed]).reset_index(drop=True)"
   ]
  },
  {
   "cell_type": "code",
   "execution_count": 8,
   "metadata": {},
   "outputs": [],
   "source": [
    "df['tensor_string'] = df['tensor_embed'].astype(str).apply(lambda x: x.replace(\"[\", \"\").replace(\"]\", \"\").replace(\",\", \"\"))\n",
    "df['Key_product'] = df['Key_product'].astype(str)\n",
    "df = df.loc[:, ['Key_product', 'tensor_string']].rename(columns={\n",
    "    'Key_product':'iid:token',\n",
    "    'tensor_string': 'item_emb:float_seq'\n",
    "})"
   ]
  },
  {
   "cell_type": "code",
   "execution_count": 11,
   "metadata": {},
   "outputs": [],
   "source": [
    "df.to_csv(\"../RECEIPT_LINES/RECEIPT_LINES.itememb\", sep=\"\\t\", index=False)"
   ]
  }
 ],
 "metadata": {
  "kernelspec": {
   "display_name": "recbole",
   "language": "python",
   "name": "python3"
  },
  "language_info": {
   "codemirror_mode": {
    "name": "ipython",
    "version": 3
   },
   "file_extension": ".py",
   "mimetype": "text/x-python",
   "name": "python",
   "nbconvert_exporter": "python",
   "pygments_lexer": "ipython3",
   "version": "3.10.0"
  }
 },
 "nbformat": 4,
 "nbformat_minor": 2
}
